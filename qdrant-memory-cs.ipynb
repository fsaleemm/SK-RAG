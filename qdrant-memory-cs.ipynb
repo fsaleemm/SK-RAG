{
 "cells": [
  {
   "cell_type": "markdown",
   "metadata": {},
   "source": [
    "# How to use Semantic Kernel Memory with Qdrant vector store\n",
    "\n",
    "### Setup Qdrant locally\n",
    "\n",
    "To setup Qdrant locally follow the [Download and run](https://qdrant.tech/documentation/quick-start/#download-and-run) Qdrant steps.\n",
    "\n",
    "```bash\n",
    "docker pull qdrant/qdrant\n",
    "```\n",
    "\n",
    "Once the image is downloaded then run in a container.\n",
    "\n",
    "```bash\n",
    "docker run -p 6333:6333 -v $pwd/qdrant_storage:/qdrant/storage:z qdrant/qdrant\n",
    "```\n",
    "\n",
    "Set the .env file with the endpoint\n",
    "\n",
    "QDRANT_ENDPOINT=\"http://localhost:6333\""
   ]
  },
  {
   "cell_type": "code",
   "execution_count": 1,
   "metadata": {
    "dotnet_interactive": {
     "language": "csharp"
    },
    "polyglot_notebook": {
     "kernelName": "csharp"
    }
   },
   "outputs": [
    {
     "data": {
      "text/html": [
       "<div><div></div><div></div><div><strong>Installed Packages</strong><ul><li><span>dotenv.net, 3.1.2</span></li></ul></div></div>"
      ]
     },
     "metadata": {},
     "output_type": "display_data"
    }
   ],
   "source": [
    "#r \"nuget: dotenv.net, 3.1.2\"\n",
    "dotenv.net.DotEnv.Load();\n",
    "var env = dotenv.net.DotEnv.Read();"
   ]
  },
  {
   "cell_type": "markdown",
   "metadata": {},
   "source": [
    "### Setup Semantic Kernel and Qdrant memeory"
   ]
  },
  {
   "cell_type": "code",
   "execution_count": 2,
   "metadata": {
    "dotnet_interactive": {
     "language": "csharp"
    },
    "polyglot_notebook": {
     "kernelName": "csharp"
    }
   },
   "outputs": [
    {
     "data": {
      "text/html": [
       "<div><div></div><div></div><div><strong>Installed Packages</strong><ul><li><span>Microsoft.SemanticKernel, 1.0.0-beta1</span></li><li><span>Microsoft.SemanticKernel.Connectors.Memory.Qdrant, 1.0.0-beta1</span></li><li><span>Newtonsoft.Json, 13.0.3</span></li></ul></div></div>"
      ]
     },
     "metadata": {},
     "output_type": "display_data"
    }
   ],
   "source": [
    "#r \"nuget: Microsoft.SemanticKernel, 1.0.0-beta1\"\n",
    "#r \"nuget: Microsoft.SemanticKernel.Connectors.Memory.Qdrant, 1.0.0-beta1\"\n",
    "#r \"nuget: Newtonsoft.Json, 13.0.3\"\n",
    "\n",
    "using Microsoft.SemanticKernel;\n",
    "using Microsoft.SemanticKernel.Connectors.Memory.Qdrant;\n",
    "using Microsoft.SemanticKernel.Memory;\n",
    "using Microsoft.SemanticKernel.Plugins.Memory;\n",
    "using Microsoft.SemanticKernel.Text;\n",
    "using System.IO;\n",
    "using System.Text.Json;\n",
    "using Microsoft.SemanticKernel.Services;\n",
    "using Microsoft.SemanticKernel.AI.TextCompletion;\n",
    "using Microsoft.SemanticKernel.Connectors.AI.OpenAI.ChatCompletion;\n",
    "using Microsoft.SemanticKernel.Connectors.AI.OpenAI.TextEmbedding;\n",
    "using Microsoft.SemanticKernel.Diagnostics;\n",
    "using Microsoft.SemanticKernel.Http;\n",
    "\n",
    "\n",
    "var memoryStorage = new QdrantMemoryStore(endpoint: env[\"QDRANT_ENDPOINT\"], vectorSize: 1536);\n",
    "var textEmbeddingGenerator = new AzureTextEmbeddingGeneration(\n",
    "            modelId: \"text-embedding-ada-002\",\n",
    "            endpoint: env[\"AZURE_OPENAI_ENDPOINT\"],\n",
    "            apiKey: env[\"AZURE_OPENAI_API_KEY\"]);\n",
    "\n",
    "var memory = new SemanticTextMemory(memoryStorage, textEmbeddingGenerator);\n",
    "\n",
    "\n",
    "var kernel = Kernel.Builder\n",
    "        \n",
    "    // Use Azure OpenAI for Embeddings (model: text-embedding-ada-002)\n",
    "    .WithAzureTextEmbeddingGenerationService(\n",
    "        deploymentName: \"text-embedding-ada-002\",\n",
    "        endpoint: env[\"AZURE_OPENAI_ENDPOINT\"],\n",
    "        apiKey: env[\"AZURE_OPENAI_API_KEY\"])\n",
    "\n",
    "    // Use Azure OpenAI for Semantic Functions (model = gpt-35-turbo)\n",
    "    .WithAzureChatCompletionService(\n",
    "        deploymentName: \"gpt-35-turbo\",\n",
    "        endpoint: env[\"AZURE_OPENAI_ENDPOINT\"],\n",
    "        apiKey: env[\"AZURE_OPENAI_API_KEY\"])\n",
    "        \n",
    "    .Build();"
   ]
  },
  {
   "cell_type": "markdown",
   "metadata": {},
   "source": [
    "### Populate the Qdrant vector store with data"
   ]
  },
  {
   "cell_type": "code",
   "execution_count": 3,
   "metadata": {
    "dotnet_interactive": {
     "language": "csharp"
    },
    "polyglot_notebook": {
     "kernelName": "csharp"
    }
   },
   "outputs": [],
   "source": [
    "using System.IO;\n",
    "using Newtonsoft.Json;\n",
    "using Newtonsoft.Json.Linq;\n",
    "\n",
    "\n",
    "string json = File.ReadAllText(\"data/text-sample.json\");\n",
    "dynamic data = JsonConvert.DeserializeObject(json);\n",
    "\n",
    "// Sample documents are small enough so there is no need for chunking. Otherwise, it is recommended to chunk data before storing. \n",
    "\n",
    "int i = 0;\n",
    "foreach (JObject obj in data)\n",
    "{\n",
    "    var key = await memory.SaveInformationAsync(\n",
    "        \"skidx1\",\n",
    "        obj.ToString(),\n",
    "        $\"text-sample-{i}\",\n",
    "        $\"Dataset: text-sample Chunk: {i}\",\n",
    "        i.ToString());\n",
    "\n",
    "    i++;\n",
    "}"
   ]
  },
  {
   "cell_type": "markdown",
   "metadata": {},
   "source": [
    "### Get the intent of the question being asked"
   ]
  },
  {
   "cell_type": "code",
   "execution_count": 4,
   "metadata": {
    "dotnet_interactive": {
     "language": "csharp"
    },
    "polyglot_notebook": {
     "kernelName": "csharp"
    }
   },
   "outputs": [],
   "source": [
    "var question = \"What services are best for asynchornous communications?\";"
   ]
  },
  {
   "cell_type": "code",
   "execution_count": 5,
   "metadata": {
    "dotnet_interactive": {
     "language": "csharp"
    },
    "polyglot_notebook": {
     "kernelName": "csharp"
    }
   },
   "outputs": [
    {
     "name": "stdout",
     "output_type": "stream",
     "text": [
      "Asynchronous communication services recommendation.\r\n"
     ]
    }
   ],
   "source": [
    "// Intent detection\n",
    "\n",
    "using Microsoft.SemanticKernel.Connectors.AI.OpenAI;\n",
    "\n",
    "const string IntentFunctionDefinition = @\"\n",
    "Bot: How can I help you?\n",
    "User: {{$input}}\n",
    "\n",
    "---------------------------------------------\n",
    "\n",
    "The intent of the user in 5 words or less: \";\n",
    "\n",
    "var intent = kernel.CreateSemanticFunction(IntentFunctionDefinition, requestSettings: new OpenAIRequestSettings() { MaxTokens = 500, Temperature = 0.0 });\n",
    "\n",
    "var result = await kernel.RunAsync(intent, new()\n",
    "    {\n",
    "        [\"input\"] = question\n",
    "    });\n",
    "\n",
    "var resultIntent = result.GetValue<string>();\n",
    "Console.WriteLine($\"{resultIntent}\");"
   ]
  },
  {
   "cell_type": "markdown",
   "metadata": {},
   "source": [
    "### Recall from memory (Sanity Check)"
   ]
  },
  {
   "cell_type": "code",
   "execution_count": 6,
   "metadata": {
    "dotnet_interactive": {
     "language": "csharp"
    },
    "polyglot_notebook": {
     "kernelName": "csharp"
    }
   },
   "outputs": [
    {
     "name": "stdout",
     "output_type": "stream",
     "text": [
      "[\"{\\r\\n  \\u0022id\\u0022: \\u002228\\u0022,\\r\\n  \\u0022title\\u0022: \\u0022Azure Service Bus\\u0022,\\r\\n  \\u0022content\\u0022: \\u0022Azure Service Bus is a fully managed, enterprise-grade messaging service that enables you to build reliable and scalable applications. It provides features like message queuing, publish-subscribe, and dead-lettering. Service Bus supports various messaging patterns, including point-to-point, broadcast, and request-reply. You can use Service Bus to integrate your applications and services, decouple your system components, and handle asynchronous communication. It also integrates with other Azure services, such as Azure Functions and Azure Logic Apps.\\u0022,\\r\\n  \\u0022category\\u0022: \\u0022Integration\\u0022\\r\\n}\",\"{\\r\\n  \\u0022id\\u0022: \\u002264\\u0022,\\r\\n  \\u0022title\\u0022: \\u0022Azure SignalR Service\\u0022,\\r\\n  \\u0022content\\u0022: \\u0022Azure SignalR Service is a fully managed, real-time messaging service that enables you to build and scale real-time web applications. It provides features like automatic scaling, WebSocket support, and serverless integration. SignalR Service supports various programming languages, such as C#, JavaScript, and Java. You can use Azure SignalR Service to build chat applications, real-time dashboards, and collaborative tools. It also integrates with other Azure services, such as Azure Functions and Azure App Service.\\u0022,\\r\\n  \\u0022category\\u0022: \\u0022Web\\u0022\\r\\n}\",\"{\\r\\n  \\u0022id\\u0022: \\u002257\\u0022,\\r\\n  \\u0022title\\u0022: \\u0022Azure Service Fabric\\u0022,\\r\\n  \\u0022content\\u0022: \\u0022Azure Service Fabric is a distributed systems platform that enables you to build, deploy, and manage scalable and reliable microservices and container-based applications. It provides features like stateful services, fault tolerance, and rolling upgrades. Service Fabric supports various programming languages, such as C#, Java, and Node.js. You can use Azure Service Fabric to build cloud-native applications, modernize your existing applications, and ensure high availability and scalability. It also integrates with other Azure services, such as Azure Kubernetes Service and Azure DevOps.\\u0022,\\r\\n  \\u0022category\\u0022: \\u0022Compute\\u0022\\r\\n}\"]"
     ]
    }
   ],
   "source": [
    "// Search from memory for sanity check\n",
    "\n",
    "using Microsoft.SemanticKernel.Orchestration;\n",
    "\n",
    "// Import the TextMemoryPlugin into the Kernel for other functions\n",
    "var memoryPlugin = new TextMemoryPlugin(memory);\n",
    "var memoryFunctions = kernel.ImportFunctions(memoryPlugin);\n",
    "\n",
    "var result = await kernel.RunAsync(memoryFunctions[\"Recall\"], new()\n",
    "    {\n",
    "        [TextMemoryPlugin.CollectionParam] = \"skidx1\",\n",
    "        [TextMemoryPlugin.LimitParam] = \"3\",\n",
    "        //[TextMemoryPlugin.RelevanceParam] = \"0.79\",\n",
    "        [\"input\"] = resultIntent\n",
    "    });\n",
    "\n",
    "\n",
    "foreach (var functionResult in result.FunctionResults)\n",
    "{\n",
    "    Console.Write(functionResult.GetValue<string>());\n",
    "}\n"
   ]
  },
  {
   "cell_type": "markdown",
   "metadata": {},
   "source": [
    "### Search and Summarize the result"
   ]
  },
  {
   "cell_type": "code",
   "execution_count": 7,
   "metadata": {
    "dotnet_interactive": {
     "language": "csharp"
    },
    "polyglot_notebook": {
     "kernelName": "csharp"
    }
   },
   "outputs": [
    {
     "name": "stdout",
     "output_type": "stream",
     "text": [
      "Original Question: What services are best for asynchornous communications?\n",
      "Optimized Question: Asynchronous communication services recommendation.\n",
      "---\n",
      "Answer: Azure Logic Apps and Azure Bot Service are best for asynchronous communications.\n",
      "\n",
      "Explanation: Azure Logic Apps allows you to create and run workflows that integrate with various services, making it suitable for asynchronous communication. Azure Bot Service enables you to build and manage intelligent chatbots, which can handle asynchronous conversations with users.\n"
     ]
    }
   ],
   "source": [
    "// Search & Summarize\n",
    "\n",
    "using Microsoft.SemanticKernel.Connectors.AI.OpenAI;\n",
    "\n",
    "const string RecallFunctionDefinition = @\"\n",
    "Considering these facts\n",
    "\n",
    "Facts: {{recall '{{$intent}}'}}\n",
    "\n",
    "Question: {{$input}}\n",
    "\n",
    "Provide a concise answer ('Answer: ') and a separate explanation ('Explanation: '), in two lines.\n",
    "\";\n",
    "\n",
    "var aboutMeOracle = kernel.CreateSemanticFunction(RecallFunctionDefinition, requestSettings: new OpenAIRequestSettings() { MaxTokens = 1024, Temperature = 0.5 });\n",
    "\n",
    "result = await kernel.RunAsync(aboutMeOracle, new()\n",
    "    {\n",
    "        [TextMemoryPlugin.CollectionParam] = \"skidx1\",\n",
    "        [TextMemoryPlugin.LimitParam] = \"3\",\n",
    "        //[TextMemoryPlugin.RelevanceParam] = \"0.79\",\n",
    "        [\"input\"] = question,\n",
    "        [\"intent\"] = resultIntent\n",
    "    });\n",
    "\n",
    "\n",
    "Console.WriteLine($\"Original Question: {question}\");\n",
    "Console.WriteLine($\"Optimized Question: {resultIntent}\");\n",
    "Console.WriteLine(\"---\");\n",
    "Console.WriteLine($\"{result.GetValue<string>()}\");"
   ]
  }
 ],
 "metadata": {
  "kernelspec": {
   "display_name": ".NET (C#)",
   "language": "C#",
   "name": ".net-csharp"
  },
  "language_info": {
   "name": "polyglot-notebook"
  },
  "polyglot_notebook": {
   "kernelInfo": {
    "defaultKernelName": "csharp",
    "items": [
     {
      "aliases": [],
      "name": "csharp"
     }
    ]
   }
  }
 },
 "nbformat": 4,
 "nbformat_minor": 2
}
